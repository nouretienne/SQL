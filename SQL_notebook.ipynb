{
 "cells": [
  {
   "cell_type": "markdown",
   "id": "77619534-2f2d-438d-8118-b7e80a3fe742",
   "metadata": {},
   "source": [
    "Nous allons créer un dossier qui va contenir notre application. \n",
    "* **web_sql_app**\n",
    "\n",
    "On associe à ce dossier un environnement virtuel.\n",
    "* **pipenv --python 3.7**\n",
    "\n",
    "On installe les librairies et leurs dépendances\n",
    "* **pip install Flask Flask-SQLAlchemy Flask-Migrate**\n",
    "\n",
    "On active notre environnement virtuel\n",
    "* **pipenv shell**"
   ]
  },
  {
   "cell_type": "code",
   "execution_count": null,
   "id": "cbf69bc5-ee08-46bf-a9c1-c16b10f830a8",
   "metadata": {},
   "outputs": [],
   "source": []
  }
 ],
 "metadata": {
  "kernelspec": {
   "display_name": "pro7_env",
   "language": "python",
   "name": "pro7_env"
  },
  "language_info": {
   "codemirror_mode": {
    "name": "ipython",
    "version": 3
   },
   "file_extension": ".py",
   "mimetype": "text/x-python",
   "name": "python",
   "nbconvert_exporter": "python",
   "pygments_lexer": "ipython3",
   "version": "3.9.12"
  }
 },
 "nbformat": 4,
 "nbformat_minor": 5
}
